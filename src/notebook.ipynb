{
 "cells": [
  {
   "cell_type": "markdown",
   "metadata": {},
   "source": [
    "#### Goals and Objectives"
   ]
  },
  {
   "cell_type": "markdown",
   "metadata": {},
   "source": [
    "- Want to create a ranking algorithm that that determines the best fitting candidate based on their job title, location, connections\n",
    "- Want the algorithm to produce a ranking list that can be manually reviewed and reranked based on human input\n",
    "- Text process the job titles as there is not a standard for job titles\n",
    "- tokenization, splitting, stopword, lemmatization/stemming -> bag of words/tfidf -> wordembeddings\n",
    "- use cosine similarity for the fit\n",
    "- Have to get the model to predict the fit, then use the predicted fit in the next iteration of the model\n",
    "- Small sample size only ~100 points of data with some duplicates\n",
    "\n",
    "Ways to filter: \n",
    "- not a lot of connections <10 connections should not be on the list."
   ]
  },
  {
   "cell_type": "markdown",
   "metadata": {},
   "source": [
    "Questions:\n",
    "\n",
    "Confused on what kind of model to use. Predictive/Generative/RNNs. Don't think I have experience using the predicted target variables as training data."
   ]
  },
  {
   "cell_type": "markdown",
   "metadata": {},
   "source": []
  },
  {
   "cell_type": "markdown",
   "metadata": {},
   "source": [
    "Word Embeddings:\n",
    "https://projector.tensorflow.org/"
   ]
  },
  {
   "cell_type": "markdown",
   "metadata": {},
   "source": [
    "SentenceTransformers:\n",
    "https://www.sbert.net/"
   ]
  },
  {
   "cell_type": "markdown",
   "metadata": {},
   "source": []
  }
 ],
 "metadata": {
  "language_info": {
   "name": "python"
  },
  "orig_nbformat": 4
 },
 "nbformat": 4,
 "nbformat_minor": 2
}
